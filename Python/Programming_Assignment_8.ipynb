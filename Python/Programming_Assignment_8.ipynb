{
  "cells": [
    {
      "cell_type": "markdown",
      "id": "9b304197",
      "metadata": {
        "id": "9b304197"
      },
      "source": [
        "# Python Basic Programming Assignment 8"
      ]
    },
    {
      "cell_type": "markdown",
      "id": "22789ae6",
      "metadata": {
        "id": "22789ae6"
      },
      "source": [
        "### 1. Write a Python Program to Add Two Matrices?"
      ]
    },
    {
      "cell_type": "code",
      "source": [
        "import numpy as np\n",
        "  \n",
        "X = [[1,2,3],\n",
        "    [4 ,5,6],\n",
        "    [7 ,8,9]]\n",
        "  \n",
        "Y = [[9,8,7],\n",
        "    [6,5,4],\n",
        "    [3,2,1]]\n",
        " \n",
        "result = np.array(X) + np.array(Y)\n",
        " \n",
        "print(result)"
      ],
      "metadata": {
        "colab": {
          "base_uri": "https://localhost:8080/"
        },
        "id": "tFv7j6A970f5",
        "outputId": "6633bbfe-34fc-43df-be00-8c25523b230b"
      },
      "id": "tFv7j6A970f5",
      "execution_count": 1,
      "outputs": [
        {
          "output_type": "stream",
          "name": "stdout",
          "text": [
            "[[10 10 10]\n",
            " [10 10 10]\n",
            " [10 10 10]]\n"
          ]
        }
      ]
    },
    {
      "cell_type": "markdown",
      "id": "044ceda6",
      "metadata": {
        "id": "044ceda6"
      },
      "source": [
        "### 2. Write a Python Program to Multiply Two Matrices?"
      ]
    },
    {
      "cell_type": "code",
      "source": [
        "# take a 3x3 matrix\n",
        "A = [[12, 7, 3],\n",
        "    [4, 5, 6],\n",
        "    [7, 8, 9]]\n",
        " \n",
        "# take a 3x4 matrix\n",
        "B = [[5, 8, 1, 2],\n",
        "    [6, 7, 3, 0],\n",
        "    [4, 5, 9, 1]]\n",
        " \n",
        "# result will be 3x4\n",
        " \n",
        "result= [[0,0,0,0],\n",
        "        [0,0,0,0],\n",
        "        [0,0,0,0]]\n",
        " \n",
        "result = np.dot(A,B)\n",
        " \n",
        "for r in result:\n",
        "    print(r)"
      ],
      "metadata": {
        "colab": {
          "base_uri": "https://localhost:8080/"
        },
        "id": "d1UuONRt76tw",
        "outputId": "67974416-86f6-4f0f-b050-ba3696a71833"
      },
      "id": "d1UuONRt76tw",
      "execution_count": 2,
      "outputs": [
        {
          "output_type": "stream",
          "name": "stdout",
          "text": [
            "[114 160  60  27]\n",
            "[74 97 73 14]\n",
            "[119 157 112  23]\n"
          ]
        }
      ]
    },
    {
      "cell_type": "markdown",
      "id": "5f688e46",
      "metadata": {
        "id": "5f688e46"
      },
      "source": [
        "### 3. Write a Python Program to Transpose a Matrix?"
      ]
    },
    {
      "cell_type": "code",
      "source": [
        "# take a 3x3 matrix\n",
        "A = [[12, 7, 3],\n",
        "    [4, 5, 6],\n",
        "    [7, 8, 9]]\n",
        "\n",
        "A= np.array(A)\n",
        "\n",
        "B=A.T\n",
        "B"
      ],
      "metadata": {
        "colab": {
          "base_uri": "https://localhost:8080/"
        },
        "id": "cBqnwkPh8Hd9",
        "outputId": "013f80b7-7fef-48bd-ba96-effeeb3c3846"
      },
      "id": "cBqnwkPh8Hd9",
      "execution_count": 5,
      "outputs": [
        {
          "output_type": "execute_result",
          "data": {
            "text/plain": [
              "array([[12,  4,  7],\n",
              "       [ 7,  5,  8],\n",
              "       [ 3,  6,  9]])"
            ]
          },
          "metadata": {},
          "execution_count": 5
        }
      ]
    },
    {
      "cell_type": "markdown",
      "id": "b2849025",
      "metadata": {
        "id": "b2849025"
      },
      "source": [
        "\n",
        "### 4. Write a Python Program to Sort Words in Alphabetic Order?\n"
      ]
    },
    {
      "cell_type": "code",
      "source": [
        "def F(S):\n",
        "    W = S.split(\" \")\n",
        "    for i in range(len(W)):\n",
        "        W[i] = W[i].lower()\n",
        "    W.sort()\n",
        " \n",
        "    # return the sorted words\n",
        "    return ' '.join(W)\n",
        " \n",
        "# Driver code\n",
        "S = \"I am Girl\"\n",
        "print(F(S))"
      ],
      "metadata": {
        "colab": {
          "base_uri": "https://localhost:8080/"
        },
        "id": "Wc344lM38zbf",
        "outputId": "f1dad09e-3457-4c40-c2cf-7779a0548b57"
      },
      "id": "Wc344lM38zbf",
      "execution_count": 7,
      "outputs": [
        {
          "output_type": "stream",
          "name": "stdout",
          "text": [
            "am girl i\n"
          ]
        }
      ]
    },
    {
      "cell_type": "markdown",
      "id": "48ac7b24",
      "metadata": {
        "id": "48ac7b24"
      },
      "source": [
        "### 5. Write a Python Program to Remove Punctuation From a String?"
      ]
    },
    {
      "cell_type": "code",
      "source": [
        "import string\n",
        " \n",
        "test_str = 'I, am, the best : for ! Cooking ;'\n",
        " \n",
        "test_str = test_str.translate(str.maketrans('', '', string.punctuation))\n",
        "print(test_str)"
      ],
      "metadata": {
        "colab": {
          "base_uri": "https://localhost:8080/"
        },
        "id": "8pfug6tH9CRt",
        "outputId": "e4c0da4d-17cb-4783-e37a-0b5ae2059471"
      },
      "id": "8pfug6tH9CRt",
      "execution_count": 11,
      "outputs": [
        {
          "output_type": "stream",
          "name": "stdout",
          "text": [
            "I am the best  for  Cooking \n"
          ]
        }
      ]
    },
    {
      "cell_type": "code",
      "source": [],
      "metadata": {
        "id": "OUduUHLK9C5D"
      },
      "id": "OUduUHLK9C5D",
      "execution_count": null,
      "outputs": []
    }
  ],
  "metadata": {
    "kernelspec": {
      "display_name": "Python 3 (ipykernel)",
      "language": "python",
      "name": "python3"
    },
    "language_info": {
      "codemirror_mode": {
        "name": "ipython",
        "version": 3
      },
      "file_extension": ".py",
      "mimetype": "text/x-python",
      "name": "python",
      "nbconvert_exporter": "python",
      "pygments_lexer": "ipython3",
      "version": "3.9.12"
    },
    "colab": {
      "provenance": []
    }
  },
  "nbformat": 4,
  "nbformat_minor": 5
}