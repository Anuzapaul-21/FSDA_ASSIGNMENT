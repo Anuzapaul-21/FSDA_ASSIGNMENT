{
  "cells": [
    {
      "cell_type": "markdown",
      "id": "53c7e882",
      "metadata": {
        "id": "53c7e882"
      },
      "source": [
        "# Python Basic Programming Assignment 11\n",
        "--------------------"
      ]
    },
    {
      "cell_type": "markdown",
      "id": "051da140",
      "metadata": {
        "id": "051da140"
      },
      "source": [
        "### 1. Write a Python program to find words which are greater than given length k?"
      ]
    },
    {
      "cell_type": "code",
      "source": [
        "# Python program to find all string\n",
        "# which are greater than given length k\n",
        "\n",
        "# function find string greater than length k\n",
        "def string_k(k, str):\n",
        "\t\n",
        "\t# create the empty string\n",
        "\tstring = []\n",
        "\t\n",
        "\t# split the string where space is comes\n",
        "\ttext = str.split(\" \")\n",
        "\t\n",
        "\t# iterate the loop till every substring\n",
        "\tfor x in text:\n",
        "\t\t\n",
        "\t\t# if length of current sub string\n",
        "\t\t# is greater than k then\n",
        "\t\tif len(x) > k:\n",
        "\t\t\t\n",
        "\t\t\t# append this sub string in\n",
        "\t\t\t# string list\n",
        "\t\t\tstring.append(x)\n",
        "\t\t\t\n",
        "\t# return string list\n",
        "\treturn string\n",
        "\n",
        "\n",
        "# Driver Program\t\n",
        "k = 3\n",
        "str =\"I love you\"\n",
        "print(string_k(k, str))\n"
      ],
      "metadata": {
        "colab": {
          "base_uri": "https://localhost:8080/"
        },
        "id": "W0MKrrZWKhjP",
        "outputId": "d759e06a-a2dd-443d-ef5c-9ee4a53e1df5"
      },
      "id": "W0MKrrZWKhjP",
      "execution_count": 2,
      "outputs": [
        {
          "output_type": "stream",
          "name": "stdout",
          "text": [
            "['love']\n"
          ]
        }
      ]
    },
    {
      "cell_type": "markdown",
      "id": "26719cbd",
      "metadata": {
        "id": "26719cbd"
      },
      "source": [
        "### 2. Write a Python program for removing i-th character from a string?"
      ]
    },
    {
      "cell_type": "code",
      "source": [
        "# Python3 program for removing i-th\n",
        "# indexed character from a string\n",
        "\n",
        "# Removes character at index i\n",
        "\n",
        "import re\n",
        "\n",
        "def remove(string, i):\n",
        "\tpattern = f\"(^.{{{i}}})(.)\"\n",
        "\treturn re.sub(pattern, r\"\\1\", string)\n",
        "\n",
        "# Driver Code\n",
        "if __name__ == '__main__':\n",
        "\tstring = \"Iloveyou\"\n",
        "\t#i-th index to be removed\n",
        "\ti = 5\n",
        "\t#string after removal of i-th index\n",
        "\tprint(remove(string, i))\n"
      ],
      "metadata": {
        "colab": {
          "base_uri": "https://localhost:8080/"
        },
        "id": "3WEipk0hKs1C",
        "outputId": "a062d702-7806-41b9-8b51-742aa752edcf"
      },
      "id": "3WEipk0hKs1C",
      "execution_count": 5,
      "outputs": [
        {
          "output_type": "stream",
          "name": "stdout",
          "text": [
            "Iloveou\n"
          ]
        }
      ]
    },
    {
      "cell_type": "markdown",
      "id": "51ae6b0f",
      "metadata": {
        "id": "51ae6b0f"
      },
      "source": [
        "### 3. Write a Python program to split and join a string?"
      ]
    },
    {
      "cell_type": "code",
      "source": [
        "# Python code\n",
        "# to split and join given string\n",
        "\n",
        "# input string\n",
        "s = 'I am the best'\n",
        "# print the string after split method\n",
        "print(s.split(\" \"))\n",
        "# print the string after join method\n",
        "print(\"-\".join(s.split()))\n",
        "\n",
        "\n",
        "# this code is contributed by gangarajula laxmi\n"
      ],
      "metadata": {
        "colab": {
          "base_uri": "https://localhost:8080/"
        },
        "id": "EEuvjscTLY_r",
        "outputId": "a5cad3df-f7a8-4d93-b20d-318ba16481dc"
      },
      "id": "EEuvjscTLY_r",
      "execution_count": 6,
      "outputs": [
        {
          "output_type": "stream",
          "name": "stdout",
          "text": [
            "['I', 'am', 'the', 'best']\n",
            "I-am-the-best\n"
          ]
        }
      ]
    },
    {
      "cell_type": "markdown",
      "id": "59079fe1",
      "metadata": {
        "id": "59079fe1"
      },
      "source": [
        "### 4. Write a Python to check if a given string is binary string or not?"
      ]
    },
    {
      "cell_type": "code",
      "source": [
        "#import library\n",
        "import re\n",
        "\n",
        "sampleInput = \"1001010\"\n",
        "\n",
        "# regular expression to find the strings\n",
        "# which have characters other than 0 and 1\n",
        "c = re.compile('[^01]')\n",
        "\n",
        "# use findall() to get the list of strings\n",
        "# that have characters other than 0 and 1.\n",
        "if(len(c.findall(sampleInput))):\n",
        "\tprint(\"No\") # if length of list > 0 then it is not binary\n",
        "else:\n",
        "\tprint(\"Yes\") # if length of list = 0 then it is binary\n"
      ],
      "metadata": {
        "colab": {
          "base_uri": "https://localhost:8080/"
        },
        "id": "gcQZcpmULnWt",
        "outputId": "63b4aebc-ad36-4ea1-cfd4-f3ee98909a92"
      },
      "id": "gcQZcpmULnWt",
      "execution_count": 7,
      "outputs": [
        {
          "output_type": "stream",
          "name": "stdout",
          "text": [
            "Yes\n"
          ]
        }
      ]
    },
    {
      "cell_type": "markdown",
      "id": "4d6cf11a",
      "metadata": {
        "id": "4d6cf11a"
      },
      "source": [
        "### 5. Write a Python program to find uncommon words from two Strings?"
      ]
    },
    {
      "cell_type": "code",
      "source": [
        "# Python3 program to find a list of uncommon words\n",
        "\n",
        "# Function to return all uncommon words\n",
        "\n",
        "\n",
        "def UncommonWords(A, B):\n",
        "\n",
        "\t# count will contain all the word counts\n",
        "\tcount = {}\n",
        "\n",
        "\t# insert words of string A to hash\n",
        "\tfor word in A.split():\n",
        "\t\tcount[word] = count.get(word, 0) + 1\n",
        "\n",
        "\t# insert words of string B to hash\n",
        "\tfor word in B.split():\n",
        "\t\tcount[word] = count.get(word, 0) + 1\n",
        "\n",
        "\t# return required list of words\n",
        "\treturn [word for word in count if count[word] == 1]\n",
        "\n",
        "\n",
        "# Driver Code\n",
        "A = \"I love you\"\n",
        "B = \"I love my dog\"\n",
        "\n",
        "# Print required answer\n",
        "print(UncommonWords(A, B))\n"
      ],
      "metadata": {
        "colab": {
          "base_uri": "https://localhost:8080/"
        },
        "id": "aed-lBn0LwAT",
        "outputId": "059f7e76-da9d-497c-b0ae-f8ead116f4cd"
      },
      "id": "aed-lBn0LwAT",
      "execution_count": 10,
      "outputs": [
        {
          "output_type": "stream",
          "name": "stdout",
          "text": [
            "['you', 'my', 'dog']\n"
          ]
        }
      ]
    },
    {
      "cell_type": "markdown",
      "id": "e2b24677",
      "metadata": {
        "id": "e2b24677"
      },
      "source": [
        "### 6. Write a Python to find all duplicate characters in string?"
      ]
    },
    {
      "cell_type": "code",
      "source": [
        "def find_dup_char(input):\n",
        "\tx = filter(lambda x: input.count(x) >= 2, input)\n",
        "\tprint(' '.join(set(x)))\n",
        "\n",
        "\n",
        "# Driver Code\n",
        "if __name__ == \"__main__\":\n",
        "\tinput = 'geeksforgeeks'\n",
        "\tfind_dup_char(input)\n"
      ],
      "metadata": {
        "colab": {
          "base_uri": "https://localhost:8080/"
        },
        "id": "0OGyPshXMCki",
        "outputId": "3960564f-15d2-47fb-b8b0-504669fcbe89"
      },
      "id": "0OGyPshXMCki",
      "execution_count": 11,
      "outputs": [
        {
          "output_type": "stream",
          "name": "stdout",
          "text": [
            "k e g s\n"
          ]
        }
      ]
    },
    {
      "cell_type": "markdown",
      "id": "1a6af7e4",
      "metadata": {
        "id": "1a6af7e4"
      },
      "source": [
        "### 7. Write a Python Program to check if a string contains any special character?"
      ]
    },
    {
      "cell_type": "code",
      "source": [
        "def has_special_char(s):\n",
        "  for c in s:\n",
        "    if not (c.isalpha() or c.isdigit() or c == ' '):\n",
        "      return True\n",
        "  return False\n",
        "\n",
        "# Test the function\n",
        "s = \"Hello World\"\n",
        "if has_special_char(s):\n",
        "  print(\"The string contains special characters.\")\n",
        "else:\n",
        "  print(\"The string does not contain special characters.\")\n",
        "\n",
        "s = \"Hello@World\"\n",
        "if has_special_char(s):\n",
        "  print(\"The string contains special characters.\")\n",
        "else:\n",
        "  print(\"The string does not contain special characters.\")\n",
        "#This code is contributed by Edula Vinay Kumar Reddy\n"
      ],
      "metadata": {
        "colab": {
          "base_uri": "https://localhost:8080/"
        },
        "id": "D1EIatIhMEk4",
        "outputId": "93e98ab4-3b91-4440-9cec-e695b682eb7e"
      },
      "id": "D1EIatIhMEk4",
      "execution_count": 13,
      "outputs": [
        {
          "output_type": "stream",
          "name": "stdout",
          "text": [
            "The string does not contain special characters.\n",
            "The string contains special characters.\n"
          ]
        }
      ]
    }
  ],
  "metadata": {
    "kernelspec": {
      "display_name": "Python 3 (ipykernel)",
      "language": "python",
      "name": "python3"
    },
    "language_info": {
      "codemirror_mode": {
        "name": "ipython",
        "version": 3
      },
      "file_extension": ".py",
      "mimetype": "text/x-python",
      "name": "python",
      "nbconvert_exporter": "python",
      "pygments_lexer": "ipython3",
      "version": "3.9.12"
    },
    "colab": {
      "provenance": []
    }
  },
  "nbformat": 4,
  "nbformat_minor": 5
}