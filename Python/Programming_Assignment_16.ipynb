{
  "cells": [
    {
      "cell_type": "markdown",
      "id": "e304dc88",
      "metadata": {
        "id": "e304dc88"
      },
      "source": [
        "## Python Basic Programming Assignment 16\n",
        "---------------------"
      ]
    },
    {
      "cell_type": "markdown",
      "id": "d82eeee0",
      "metadata": {
        "id": "d82eeee0"
      },
      "source": [
        "### 1. Write a function that stutters a word as if someone is struggling to read it. The first two letters are repeated twice with an ellipsis ... and space after each, and then the word is pronounced with a question mark ?. Examples stutter('incredible') ➞ 'in... in... incredible?' stutter('enthusiastic') ➞ 'en... en... enthusiastic?' stutter('outstanding') ➞ 'ou... ou... outstanding?'\n",
        "\n",
        "### Hint :- Assume all input is in lower case and at least two characters long."
      ]
    },
    {
      "cell_type": "code",
      "source": [
        "def stutter(word):\n",
        "    s = word[:2]\n",
        "    return (2 * (s + '... ')) + word + '?'\n",
        "\n",
        "\n",
        "print(stutter(\"incredible\"))\n",
        "print(stutter(\"enthusiastic\"))\n",
        "print(stutter(\"outstanding\"))"
      ],
      "metadata": {
        "colab": {
          "base_uri": "https://localhost:8080/"
        },
        "id": "gghSlr-s4zul",
        "outputId": "e77866bf-8d82-4f44-d3e3-0a961ced08e9"
      },
      "id": "gghSlr-s4zul",
      "execution_count": 2,
      "outputs": [
        {
          "output_type": "stream",
          "name": "stdout",
          "text": [
            "in... in... incredible?\n",
            "en... en... enthusiastic?\n",
            "ou... ou... outstanding?\n"
          ]
        }
      ]
    },
    {
      "cell_type": "markdown",
      "id": "47e1bd41",
      "metadata": {
        "id": "47e1bd41"
      },
      "source": [
        "\n",
        "### 2. Create a function that takes an angle in radians and returns the corresponding angle in degrees rounded to one decimal place."
      ]
    },
    {
      "cell_type": "code",
      "source": [
        "# Python code to convert radian to degree\n",
        "\n",
        "# Function for conversion\n",
        "def Convert(radian):\n",
        "\tpi = 3.14159\n",
        "\t# Simply used the formula\n",
        "\tdegree = radian * (180/pi)\n",
        "\treturn degree\n",
        "\n",
        "# Driver Code\n",
        "radian = 5\n",
        "print(\"degree =\",(Convert(radian)))\n"
      ],
      "metadata": {
        "colab": {
          "base_uri": "https://localhost:8080/"
        },
        "id": "nZSnPFoI5Vxl",
        "outputId": "24f1cd12-aba4-4efc-e8df-cff5e0804a00"
      },
      "id": "nZSnPFoI5Vxl",
      "execution_count": 3,
      "outputs": [
        {
          "output_type": "stream",
          "name": "stdout",
          "text": [
            "degree = 286.4791395439889\n"
          ]
        }
      ]
    },
    {
      "cell_type": "markdown",
      "id": "07cad4d9",
      "metadata": {
        "id": "07cad4d9"
      },
      "source": [
        "\n",
        "### 3. In this challenge, establish if a given integer num is a Curzon number. If 1 plus 2 elevated to num is exactly divisible by 1 plus 2 multiplied by num, then num is a Curzon number. Given a non-negative integer num, implement a function that returns True if num is a Curzon number, or False otherwise."
      ]
    },
    {
      "cell_type": "code",
      "source": [
        "\n",
        "\n",
        "# Function to check if a number\n",
        "# is a Curzon number or not\n",
        "def checkIfCurzonNumber(N):\n",
        "\n",
        "\tpowerTerm, productTerm = 0, 0\n",
        "\n",
        "\t# Find 2^N + 1\n",
        "\tpowerTerm = pow(2, N) + 1\n",
        "\n",
        "\t# Find 2*N + 1\n",
        "\tproductTerm = 2 * N + 1\n",
        "\n",
        "\t# Check for divisibility\n",
        "\tif (powerTerm % productTerm == 0):\n",
        "\t\tprint(\"Yes\")\n",
        "\telse:\n",
        "\t\tprint(\"No\")\n",
        "\n",
        "# Driver code\n",
        "if __name__ == '__main__':\n",
        "\t\n",
        "\tN = 5\n",
        "\tcheckIfCurzonNumber(N)\n",
        "\n",
        "\tN = 10\n",
        "\tcheckIfCurzonNumber(N)\n",
        "\n",
        "\n"
      ],
      "metadata": {
        "colab": {
          "base_uri": "https://localhost:8080/"
        },
        "id": "DonNu-IF5oGM",
        "outputId": "cb58e131-148f-4ed2-eb5e-641d332f437d"
      },
      "id": "DonNu-IF5oGM",
      "execution_count": 4,
      "outputs": [
        {
          "output_type": "stream",
          "name": "stdout",
          "text": [
            "Yes\n",
            "No\n"
          ]
        }
      ]
    },
    {
      "cell_type": "markdown",
      "id": "cfad2cfc",
      "metadata": {
        "id": "cfad2cfc"
      },
      "source": [
        "\n",
        "### 4. Given the side length x find the area of a hexagon."
      ]
    },
    {
      "cell_type": "code",
      "source": [
        "# Python3 program to find\n",
        "# area of a Hexagon\n",
        "import math\n",
        "\n",
        "# Function for calculating\n",
        "# area of the hexagon.\n",
        "def hexagonArea(s):\n",
        "\t\n",
        "\treturn ((3 * math.sqrt(3) *\n",
        "\t\t\t(s * s)) / 2);\n",
        "\t\n",
        "# Driver code\t\n",
        "if __name__ == \"__main__\" :\n",
        "\n",
        "\t# length of a side.\n",
        "\ts = 4\n",
        "\n",
        "\tprint(\"Area:\",\"{0:.4f}\" .\n",
        "\t\tformat(hexagonArea(s)))\n",
        "\n",
        "# This code is contributed by Naman_Garg\n"
      ],
      "metadata": {
        "colab": {
          "base_uri": "https://localhost:8080/"
        },
        "id": "yr-PIBA-54qX",
        "outputId": "3e99ceb9-26c7-47bb-ee39-910044f4b0c2"
      },
      "id": "yr-PIBA-54qX",
      "execution_count": 5,
      "outputs": [
        {
          "output_type": "stream",
          "name": "stdout",
          "text": [
            "Area: 41.5692\n"
          ]
        }
      ]
    },
    {
      "cell_type": "markdown",
      "id": "dbc79e02",
      "metadata": {
        "id": "dbc79e02"
      },
      "source": [
        "\n",
        "### 5. Create a function that returns a base-2 (binary) representation of a base-10 (decimal) string number. To convert is simple: ((2) means base-2 and (10) means base-10) 010101001(2) = 1 + 8 + 32 + 128."
      ]
    },
    {
      "cell_type": "code",
      "source": [
        "b_string  = bin(89)     # For testing purpose, get the binary string representation of 89.\n",
        "\n",
        "print(b_string)         # Print the binary string representation. \n",
        "\n",
        "\n",
        "                          # Now, convert back the binary string to integer with int() and base parameter.\n",
        "int(b_string, base = 2)   # Convert to base 2.\n"
      ],
      "metadata": {
        "colab": {
          "base_uri": "https://localhost:8080/"
        },
        "id": "gK592K8T6Fyi",
        "outputId": "cc80343c-7bf2-4bd0-ce67-c9600cc6108f"
      },
      "id": "gK592K8T6Fyi",
      "execution_count": 7,
      "outputs": [
        {
          "output_type": "stream",
          "name": "stdout",
          "text": [
            "0b1011001\n"
          ]
        },
        {
          "output_type": "execute_result",
          "data": {
            "text/plain": [
              "89"
            ]
          },
          "metadata": {},
          "execution_count": 7
        }
      ]
    },
    {
      "cell_type": "code",
      "source": [],
      "metadata": {
        "id": "oSlDUG_d6Gfh"
      },
      "id": "oSlDUG_d6Gfh",
      "execution_count": null,
      "outputs": []
    }
  ],
  "metadata": {
    "kernelspec": {
      "display_name": "Python 3 (ipykernel)",
      "language": "python",
      "name": "python3"
    },
    "language_info": {
      "codemirror_mode": {
        "name": "ipython",
        "version": 3
      },
      "file_extension": ".py",
      "mimetype": "text/x-python",
      "name": "python",
      "nbconvert_exporter": "python",
      "pygments_lexer": "ipython3",
      "version": "3.9.12"
    },
    "colab": {
      "provenance": []
    }
  },
  "nbformat": 4,
  "nbformat_minor": 5
}