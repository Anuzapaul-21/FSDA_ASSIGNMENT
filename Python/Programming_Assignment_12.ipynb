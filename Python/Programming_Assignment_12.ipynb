{
  "cells": [
    {
      "cell_type": "markdown",
      "id": "b7231b20",
      "metadata": {
        "id": "b7231b20"
      },
      "source": [
        "# Python Basic Programming Assignment 12\n",
        "-------------"
      ]
    },
    {
      "cell_type": "markdown",
      "id": "d2ec324d",
      "metadata": {
        "id": "d2ec324d"
      },
      "source": [
        "### 1. Write a Python program to Extract Unique values dictionary values?"
      ]
    },
    {
      "cell_type": "code",
      "source": [
        "# Python3 code to demonstrate working of\n",
        "# Extract Unique values dictionary values\n",
        "# Using set comprehension + values() + sorted()\n",
        "\n",
        "# initializing dictionary\n",
        "test_dict = {'gfg': [5, 6, 7, 8],\n",
        "\t\t\t'is': [10, 11, 7, 5],\n",
        "\t\t\t'best': [6, 12, 10, 8],\n",
        "\t\t\t'for': [1, 2, 5]}\n",
        "\n",
        "# printing original dictionary\n",
        "print(\"The original dictionary is : \" + str(test_dict))\n",
        "\n",
        "# Extract Unique values dictionary values\n",
        "# Using set comprehension + values() + sorted()\n",
        "res = list(sorted({ele for val in test_dict.values() for ele in val}))\n",
        "\n",
        "# printing result\n",
        "print(\"The unique values list is : \" + str(res))\n"
      ],
      "metadata": {
        "colab": {
          "base_uri": "https://localhost:8080/"
        },
        "id": "WuqgxrmeNGlJ",
        "outputId": "d3d55320-43b0-4207-ea4f-0b9681a9e362"
      },
      "id": "WuqgxrmeNGlJ",
      "execution_count": 1,
      "outputs": [
        {
          "output_type": "stream",
          "name": "stdout",
          "text": [
            "The original dictionary is : {'gfg': [5, 6, 7, 8], 'is': [10, 11, 7, 5], 'best': [6, 12, 10, 8], 'for': [1, 2, 5]}\n",
            "The unique values list is : [1, 2, 5, 6, 7, 8, 10, 11, 12]\n"
          ]
        }
      ]
    },
    {
      "cell_type": "markdown",
      "id": "203bcbc3",
      "metadata": {
        "id": "203bcbc3"
      },
      "source": [
        "### 2. Write a Python program to find the sum of all items in a dictionary?"
      ]
    },
    {
      "cell_type": "code",
      "source": [
        "# Python3 Program to find sum of\n",
        "# all items in a Dictionary\n",
        "\n",
        "# Function to print sum\n",
        "\n",
        "\n",
        "def returnSum(myDict):\n",
        "\n",
        "\tlist = []\n",
        "\tfor i in myDict:\n",
        "\t\tlist.append(myDict[i])\n",
        "\tfinal = sum(list)\n",
        "\n",
        "\treturn final\n",
        "\n",
        "\n",
        "# Driver Function\n",
        "dict = {'a': 100, 'b': 200, 'c': 300}\n",
        "print(\"Sum :\", returnSum(dict))\n",
        "\n"
      ],
      "metadata": {
        "colab": {
          "base_uri": "https://localhost:8080/"
        },
        "id": "KG2DfpqYNKkW",
        "outputId": "b8c74e53-74e3-400e-cb89-73a61996bb90"
      },
      "id": "KG2DfpqYNKkW",
      "execution_count": 2,
      "outputs": [
        {
          "output_type": "stream",
          "name": "stdout",
          "text": [
            "Sum : 600\n"
          ]
        }
      ]
    },
    {
      "cell_type": "markdown",
      "id": "edfbc682",
      "metadata": {
        "id": "edfbc682"
      },
      "source": [
        "### 3. Write a Python program to Merging two Dictionaries?"
      ]
    },
    {
      "cell_type": "code",
      "source": [
        "# Python code to merge dict using update() method\n",
        "def Merge(dict1, dict2):\n",
        "\treturn(dict2.update(dict1))\n",
        "\n",
        "\n",
        "# Driver code\n",
        "dict1 = {'a': 10, 'b': 8}\n",
        "dict2 = {'d': 6, 'c': 4}\n",
        "\n",
        "# This returns None\n",
        "print(Merge(dict1, dict2))\n",
        "\n",
        "# changes made in dict2\n",
        "print(dict2)\n"
      ],
      "metadata": {
        "colab": {
          "base_uri": "https://localhost:8080/"
        },
        "id": "9YPGdy3RNLTC",
        "outputId": "f7b54fb1-6e0d-45a8-863b-77c22c654a78"
      },
      "id": "9YPGdy3RNLTC",
      "execution_count": 3,
      "outputs": [
        {
          "output_type": "stream",
          "name": "stdout",
          "text": [
            "None\n",
            "{'d': 6, 'c': 4, 'a': 10, 'b': 8}\n"
          ]
        }
      ]
    },
    {
      "cell_type": "markdown",
      "id": "62eaf687",
      "metadata": {
        "id": "62eaf687"
      },
      "source": [
        "### 4. Write a Python program to convert key-values list to flat dictionary?"
      ]
    },
    {
      "cell_type": "markdown",
      "id": "fcc5015f",
      "metadata": {
        "id": "fcc5015f"
      },
      "source": [
        "### 5. Write a Python program to insertion at the beginning in OrderedDict?"
      ]
    },
    {
      "cell_type": "code",
      "source": [
        "# Python code to demonstrate\n",
        "# insertion of items in beginning of ordered dict\n",
        "from collections import OrderedDict\n",
        "\n",
        "# initialising ordered_dict\n",
        "iniordered_dict = OrderedDict([('akshat', '1'), ('nikhil', '2')])\n",
        "\n",
        "# inserting items in starting of dict\n",
        "iniordered_dict.update({'manjeet':'3'})\n",
        "iniordered_dict.move_to_end('manjeet', last = False)\n",
        "\n",
        "# print result\n",
        "print (\"Resultant Dictionary : \"+str(iniordered_dict))\n"
      ],
      "metadata": {
        "colab": {
          "base_uri": "https://localhost:8080/"
        },
        "id": "zGggFz8INM0s",
        "outputId": "bf1a19b1-34ac-4123-b586-e0a3075c6d77"
      },
      "id": "zGggFz8INM0s",
      "execution_count": 6,
      "outputs": [
        {
          "output_type": "stream",
          "name": "stdout",
          "text": [
            "Resultant Dictionary : OrderedDict([('manjeet', '3'), ('akshat', '1'), ('nikhil', '2')])\n"
          ]
        }
      ]
    },
    {
      "cell_type": "markdown",
      "id": "5978c9ab",
      "metadata": {
        "id": "5978c9ab"
      },
      "source": [
        "### 6. Write a Python program to check order of character in string using OrderedDict()?"
      ]
    },
    {
      "cell_type": "code",
      "source": [
        "# Function to check if string follows order of\n",
        "# characters defined by a pattern\n",
        "from collections import OrderedDict\n",
        "\n",
        "def checkOrder(input, pattern):\n",
        "\t\n",
        "\t# create empty OrderedDict\n",
        "\t# output will be like {'a': None,'b': None, 'c': None}\n",
        "\tdict = OrderedDict.fromkeys(input)\n",
        "\n",
        "\t# traverse generated OrderedDict parallel with\n",
        "\t# pattern string to check if order of characters\n",
        "\t# are same or not\n",
        "\tptrlen = 0\n",
        "\tfor key,value in dict.items():\n",
        "\t\tif (key == pattern[ptrlen]):\n",
        "\t\t\tptrlen = ptrlen + 1\n",
        "\t\t\n",
        "\t\t# check if we have traverse complete\n",
        "\t\t# pattern string\n",
        "\t\tif (ptrlen == (len(pattern))):\n",
        "\t\t\treturn 'true'\n",
        "\n",
        "\t# if we come out from for loop that means\n",
        "\t# order was mismatched\n",
        "\treturn 'false'\n",
        "\n",
        "# Driver program\n",
        "if __name__ == \"__main__\":\n",
        "\tinput = 'engineers rock'\n",
        "\tpattern = 'er'\n",
        "\tprint (checkOrder(input,pattern))\n"
      ],
      "metadata": {
        "colab": {
          "base_uri": "https://localhost:8080/"
        },
        "id": "DYJ0hf5zNNyJ",
        "outputId": "6314e3b5-7e58-4622-fcba-5ea1c2cdb939"
      },
      "id": "DYJ0hf5zNNyJ",
      "execution_count": 7,
      "outputs": [
        {
          "output_type": "stream",
          "name": "stdout",
          "text": [
            "true\n"
          ]
        }
      ]
    },
    {
      "cell_type": "markdown",
      "id": "f330da77",
      "metadata": {
        "id": "f330da77"
      },
      "source": [
        "### 7. Write a Python program to sort Python Dictionaries by Key or Value?"
      ]
    },
    {
      "cell_type": "code",
      "source": [
        "myDict = {'ravi': 10, 'rajnish': 9,\n",
        "\t\t'sanjeev': 15, 'yash': 2, 'suraj': 32}\n",
        "\n",
        "myKeys = list(myDict.keys())\n",
        "myKeys.sort()\n",
        "sorted_dict = {i: myDict[i] for i in myKeys}\n",
        "\n",
        "print(sorted_dict)\n"
      ],
      "metadata": {
        "colab": {
          "base_uri": "https://localhost:8080/"
        },
        "id": "-BDUDLCPNOp_",
        "outputId": "36130979-5e32-4beb-b764-0346c4c1c692"
      },
      "id": "-BDUDLCPNOp_",
      "execution_count": 8,
      "outputs": [
        {
          "output_type": "stream",
          "name": "stdout",
          "text": [
            "{'rajnish': 9, 'ravi': 10, 'sanjeev': 15, 'suraj': 32, 'yash': 2}\n"
          ]
        }
      ]
    }
  ],
  "metadata": {
    "kernelspec": {
      "display_name": "Python 3 (ipykernel)",
      "language": "python",
      "name": "python3"
    },
    "language_info": {
      "codemirror_mode": {
        "name": "ipython",
        "version": 3
      },
      "file_extension": ".py",
      "mimetype": "text/x-python",
      "name": "python",
      "nbconvert_exporter": "python",
      "pygments_lexer": "ipython3",
      "version": "3.9.12"
    },
    "colab": {
      "provenance": []
    }
  },
  "nbformat": 4,
  "nbformat_minor": 5
}