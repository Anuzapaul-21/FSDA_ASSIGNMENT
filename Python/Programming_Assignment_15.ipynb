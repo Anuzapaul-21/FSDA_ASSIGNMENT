{
  "cells": [
    {
      "cell_type": "markdown",
      "id": "7df6e6a0",
      "metadata": {
        "id": "7df6e6a0"
      },
      "source": [
        "## Python Basic Programming Assignment - 15\n",
        "-------------------"
      ]
    },
    {
      "cell_type": "markdown",
      "id": "de299c62",
      "metadata": {
        "id": "de299c62"
      },
      "source": [
        "### 1. Please write a program using generator to print the numbers which can be divisible by 5 and 7 between 0 and n in comma separated form while n is input by console."
      ]
    },
    {
      "cell_type": "code",
      "source": [
        "# Python3 program to print all the numbers\n",
        "# divisible by 5 or 7 for a given number\n",
        "\n",
        "# Result generator with N\n",
        "def NumGen(n):\n",
        "\t\n",
        "\t# iterate from 0 to N\n",
        "\tfor j in range(1, n+1):\n",
        "\n",
        "\t\t# Short-circuit operator is used\n",
        "\t\tif j % 5 == 0 or j % 7 == 0:\n",
        "\t\t\tyield j\n",
        "\n",
        "# Driver code\n",
        "if __name__ == \"__main__\":\n",
        "\t\n",
        "\t# input goes here\n",
        "\tN = 50\n",
        "\n",
        "\t# Iterating over generator function\n",
        "\tfor j in NumGen(N):\n",
        "\t\tprint(j, end = \" \")\n"
      ],
      "metadata": {
        "colab": {
          "base_uri": "https://localhost:8080/"
        },
        "id": "IcObA3eqtX5Z",
        "outputId": "8ecc42b2-1dd9-41e5-a8e0-6d9a1b4d0ffd"
      },
      "id": "IcObA3eqtX5Z",
      "execution_count": 1,
      "outputs": [
        {
          "output_type": "stream",
          "name": "stdout",
          "text": [
            "5 7 10 14 15 20 21 25 28 30 35 40 42 45 49 50 "
          ]
        }
      ]
    },
    {
      "cell_type": "markdown",
      "id": "c04aab80",
      "metadata": {
        "id": "c04aab80"
      },
      "source": [
        "\n",
        "### 2. Please write a program using generator to print the even numbers between 0 and n in comma separated form while n is input by console."
      ]
    },
    {
      "cell_type": "code",
      "source": [
        "# Python program to print Even Numbers in given range\n",
        "\n",
        "start = int(input(\"Enter the start of range: \"))\n",
        "end = int(input(\"Enter the end of range: \"))\n",
        "\n",
        "# iterating each number in list\n",
        "for num in range(start, end + 1):\n",
        "\n",
        "\t# checking condition\n",
        "\tif num % 2 == 0:\n",
        "\t\tprint(num, end=\" \")\n"
      ],
      "metadata": {
        "colab": {
          "base_uri": "https://localhost:8080/"
        },
        "id": "is9GMOCutjUY",
        "outputId": "ac483013-088c-4f6c-faa2-58927ff1b5e4"
      },
      "id": "is9GMOCutjUY",
      "execution_count": 2,
      "outputs": [
        {
          "output_type": "stream",
          "name": "stdout",
          "text": [
            "Enter the start of range: 4\n",
            "Enter the end of range: 15\n",
            "4 6 8 10 12 14 "
          ]
        }
      ]
    },
    {
      "cell_type": "markdown",
      "id": "35b72559",
      "metadata": {
        "id": "35b72559"
      },
      "source": [
        "### 3. Please write a program using list comprehension to print the Fibonacci Sequence in comma separated form with a given n input by console."
      ]
    },
    {
      "cell_type": "code",
      "source": [
        "def fibonacci_nums(n):\n",
        "  if n <= 0:\n",
        "    return [0]\n",
        "  sequence = [0, 1]\n",
        "  while len(sequence) <= n:\n",
        "    next_value = sequence[len(sequence) - 1] + sequence[len(sequence) - 2]\n",
        "    sequence.append(next_value)\n",
        "  return sequence\n",
        "print(\"First 7 Fibonacci numbers:\")\n",
        "print(fibonacci_nums(7))\n",
        "print(\"\\nFirst 15 Fibonacci numbers:\")\n",
        "print(fibonacci_nums(15))\n",
        "print(\"\\nFirst 50 Fibonacci numbers:\")\n",
        "print(fibonacci_nums(50))\n"
      ],
      "metadata": {
        "colab": {
          "base_uri": "https://localhost:8080/"
        },
        "id": "G6h4vIABwPBc",
        "outputId": "aff5d750-d1bc-4f65-8873-cab61203b514"
      },
      "id": "G6h4vIABwPBc",
      "execution_count": 7,
      "outputs": [
        {
          "output_type": "stream",
          "name": "stdout",
          "text": [
            "First 7 Fibonacci numbers:\n",
            "[0, 1, 1, 2, 3, 5, 8, 13]\n",
            "\n",
            "First 15 Fibonacci numbers:\n",
            "[0, 1, 1, 2, 3, 5, 8, 13, 21, 34, 55, 89, 144, 233, 377, 610]\n",
            "\n",
            "First 50 Fibonacci numbers:\n",
            "[0, 1, 1, 2, 3, 5, 8, 13, 21, 34, 55, 89, 144, 233, 377, 610, 987, 1597, 2584, 4181, 6765, 10946, 17711, 28657, 46368, 75025, 121393, 196418, 317811, 514229, 832040, 1346269, 2178309, 3524578, 5702887, 9227465, 14930352, 24157817, 39088169, 63245986, 102334155, 165580141, 267914296, 433494437, 701408733, 1134903170, 1836311903, 2971215073, 4807526976, 7778742049, 12586269025]\n"
          ]
        }
      ]
    },
    {
      "cell_type": "markdown",
      "id": "dea0be0f",
      "metadata": {
        "id": "dea0be0f"
      },
      "source": [
        "\n",
        "### 4. Assuming that we have some email addresses in the \"username@companyname.com\" format, please write program to print the user name of a given email address. Both user names and company names are composed of letters only."
      ]
    },
    {
      "cell_type": "code",
      "source": [
        "import re\n",
        "\n",
        "email = \"john@google.com elise@python.com\"\n",
        "pattern = \"\\w+@(\\w+).com\"\n",
        "ans = re.findall(pattern,email)\n",
        "print(ans)"
      ],
      "metadata": {
        "colab": {
          "base_uri": "https://localhost:8080/"
        },
        "id": "5PXZENzU1hGQ",
        "outputId": "d5386ee6-f662-4dcd-e3b5-072cbd6e2027"
      },
      "id": "5PXZENzU1hGQ",
      "execution_count": 8,
      "outputs": [
        {
          "output_type": "stream",
          "name": "stdout",
          "text": [
            "['google', 'python']\n"
          ]
        }
      ]
    },
    {
      "cell_type": "markdown",
      "id": "2834c88f",
      "metadata": {
        "id": "2834c88f"
      },
      "source": [
        "\n",
        "### 5. Define a class named Shape and its subclass Square. The Square class has an init function which takes a length as argument. Both classes have a area function which can print the area of the shape where Shape's area is 0 by default."
      ]
    },
    {
      "cell_type": "code",
      "source": [
        "class Shape(object):\n",
        "    def __init__(self):\n",
        "        pass\n",
        "\n",
        "    def area(self):\n",
        "        return 0\n",
        "\n",
        "class Square(Shape):\n",
        "    def __init__(self, l):\n",
        "        Shape.__init__(self)\n",
        "        self.length = l\n",
        "\n",
        "    def area(self):\n",
        "        return self.length*self.length\n",
        "\n",
        "aSquare= Square(3)\n",
        "print(aSquare.area())"
      ],
      "metadata": {
        "colab": {
          "base_uri": "https://localhost:8080/"
        },
        "id": "xQNhE1FD1r6d",
        "outputId": "979e71db-3b0d-40c9-fa04-846bde1e3483"
      },
      "id": "xQNhE1FD1r6d",
      "execution_count": 12,
      "outputs": [
        {
          "output_type": "stream",
          "name": "stdout",
          "text": [
            "9\n"
          ]
        }
      ]
    },
    {
      "cell_type": "code",
      "source": [],
      "metadata": {
        "id": "1ccis8BJ18fY"
      },
      "id": "1ccis8BJ18fY",
      "execution_count": null,
      "outputs": []
    }
  ],
  "metadata": {
    "kernelspec": {
      "display_name": "Python 3 (ipykernel)",
      "language": "python",
      "name": "python3"
    },
    "language_info": {
      "codemirror_mode": {
        "name": "ipython",
        "version": 3
      },
      "file_extension": ".py",
      "mimetype": "text/x-python",
      "name": "python",
      "nbconvert_exporter": "python",
      "pygments_lexer": "ipython3",
      "version": "3.9.12"
    },
    "colab": {
      "provenance": []
    }
  },
  "nbformat": 4,
  "nbformat_minor": 5
}