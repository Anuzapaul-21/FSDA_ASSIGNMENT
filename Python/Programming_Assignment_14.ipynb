{
  "cells": [
    {
      "cell_type": "markdown",
      "id": "9bf47949",
      "metadata": {
        "id": "9bf47949"
      },
      "source": [
        "## Python Basic Programming Assignment - 14\n",
        "---------------------"
      ]
    },
    {
      "cell_type": "markdown",
      "id": "a8074819",
      "metadata": {
        "id": "a8074819"
      },
      "source": [
        "### 1. Define a class with a generator which can iterate the numbers, which are divisible by 7, between a given range 0 and n."
      ]
    },
    {
      "cell_type": "code",
      "source": [
        "n = int(input())\n",
        "divBy7 = [i for i in range(0, n) if (i % 7 == 0)]\n",
        "print(divBy7)\n",
        "\n",
        "def divChecker(n):\n",
        "    for i in range(n):\n",
        "        if i % 7 == 0:\n",
        "            value = True\n",
        "        else:\n",
        "            value = False\n",
        "        print(i, value)\n",
        "\n",
        "divChecker(n)"
      ],
      "metadata": {
        "id": "OkU1F1o5PHcH",
        "outputId": "b75bc4de-bd1b-47c2-f35c-82d7051e59db",
        "colab": {
          "base_uri": "https://localhost:8080/"
        }
      },
      "id": "OkU1F1o5PHcH",
      "execution_count": null,
      "outputs": [
        {
          "output_type": "stream",
          "name": "stdout",
          "text": [
            "78\n",
            "[0, 7, 14, 21, 28, 35, 42, 49, 56, 63, 70, 77]\n",
            "0 True\n",
            "1 False\n",
            "2 False\n",
            "3 False\n",
            "4 False\n",
            "5 False\n",
            "6 False\n",
            "7 True\n",
            "8 False\n",
            "9 False\n",
            "10 False\n",
            "11 False\n",
            "12 False\n",
            "13 False\n",
            "14 True\n",
            "15 False\n",
            "16 False\n",
            "17 False\n",
            "18 False\n",
            "19 False\n",
            "20 False\n",
            "21 True\n",
            "22 False\n",
            "23 False\n",
            "24 False\n",
            "25 False\n",
            "26 False\n",
            "27 False\n",
            "28 True\n",
            "29 False\n",
            "30 False\n",
            "31 False\n",
            "32 False\n",
            "33 False\n",
            "34 False\n",
            "35 True\n",
            "36 False\n",
            "37 False\n",
            "38 False\n",
            "39 False\n",
            "40 False\n",
            "41 False\n",
            "42 True\n",
            "43 False\n",
            "44 False\n",
            "45 False\n",
            "46 False\n",
            "47 False\n",
            "48 False\n",
            "49 True\n",
            "50 False\n",
            "51 False\n",
            "52 False\n",
            "53 False\n",
            "54 False\n",
            "55 False\n",
            "56 True\n",
            "57 False\n",
            "58 False\n",
            "59 False\n",
            "60 False\n",
            "61 False\n",
            "62 False\n",
            "63 True\n",
            "64 False\n",
            "65 False\n",
            "66 False\n",
            "67 False\n",
            "68 False\n",
            "69 False\n",
            "70 True\n",
            "71 False\n",
            "72 False\n",
            "73 False\n",
            "74 False\n",
            "75 False\n",
            "76 False\n",
            "77 True\n"
          ]
        }
      ]
    },
    {
      "cell_type": "markdown",
      "id": "8127371b",
      "metadata": {
        "id": "8127371b"
      },
      "source": [
        "\n",
        "### 2. Write a program to compute the frequency of the words from the input. The output should output after sorting the key alphanumerically."
      ]
    },
    {
      "cell_type": "code",
      "source": [
        "import operator\n",
        "\n",
        "text_line = input(\"Type in: \")\n",
        "\n",
        "freq_dict = {}\n",
        "\n",
        "for i in text_line.split(' '):\n",
        "    if i.isalpha():\n",
        "        if i not in freq_dict:\n",
        "            freq_dict[i] = 1\n",
        "        elif i in freq_dict:\n",
        "            freq_dict[i] = freq_dict[i] + 1\n",
        "    else:\n",
        "        pass\n",
        "\n",
        "sorted_freq_dict = sorted(freq_dict.items(), key = operator.itemgetter(0))\n",
        "print(sorted_freq_dict)\n",
        "\n",
        "for i in sorted_freq_dict:\n",
        "    print(i[0], i[1])"
      ],
      "metadata": {
        "colab": {
          "base_uri": "https://localhost:8080/"
        },
        "id": "FJwnOco0R52x",
        "outputId": "1a0142ee-20c6-4692-e08b-20f613a593ff"
      },
      "id": "FJwnOco0R52x",
      "execution_count": 1,
      "outputs": [
        {
          "output_type": "stream",
          "name": "stdout",
          "text": [
            "Type in: kiss\n",
            "[('kiss', 1)]\n",
            "kiss 1\n"
          ]
        }
      ]
    },
    {
      "cell_type": "markdown",
      "id": "4e869c3c",
      "metadata": {
        "id": "4e869c3c"
      },
      "source": [
        "\n",
        "### 3. Define a class Person and its two child classes: Male and Female. All classes have a method \"getGender\" which can print \"Male\" for Male class and \"Female\" for Female class."
      ]
    },
    {
      "cell_type": "code",
      "source": [
        "class Person(object):\n",
        "    def __init__(self):\n",
        "      self.gender = \"unknown\"\n",
        "\n",
        "    def getGender(self):\n",
        "      print(self.gender)\n",
        "\n",
        "class Male(Person):\n",
        "    def __init__(self):\n",
        "      self.gender = \"Male\"\n",
        "\n",
        "class Female(Person):\n",
        "    def __init__(self):\n",
        "      self.gender = \"Female\"\n",
        "\n",
        "sharon = Female()\n",
        "doug = Male()\n",
        "sharon.getGender()\n",
        "doug.getGender()"
      ],
      "metadata": {
        "colab": {
          "base_uri": "https://localhost:8080/"
        },
        "id": "xw_qrAH7S3Rx",
        "outputId": "2c9780dc-0e14-4176-8b59-3433917dcf77"
      },
      "id": "xw_qrAH7S3Rx",
      "execution_count": 3,
      "outputs": [
        {
          "output_type": "stream",
          "name": "stdout",
          "text": [
            "Female\n",
            "Male\n"
          ]
        }
      ]
    },
    {
      "cell_type": "markdown",
      "id": "58b5940f",
      "metadata": {
        "id": "58b5940f"
      },
      "source": [
        "\n",
        "### 4. Please write a program to generate all sentences where subject is in [\"I\", \"You\"] and verb is in ['Play', \"Love\"] and the object is in [\"Hockey\",\"Football\"]."
      ]
    },
    {
      "cell_type": "code",
      "source": [
        "subjects=[\"I\", \"You\"]\n",
        "verbs=[\"Play\", \"Love\"]\n",
        "objects=[\"Hockey\",\"Football\"]\n",
        "\n",
        "for sub in subjects:\n",
        "    for verb in verbs:\n",
        "        for obj in objects:\n",
        "            print(\"{} {} {}\".format(sub,verb,obj))"
      ],
      "metadata": {
        "colab": {
          "base_uri": "https://localhost:8080/"
        },
        "id": "UQVhi8F8TP2a",
        "outputId": "7a307284-7612-47d4-ea7f-e4c33677c23f"
      },
      "id": "UQVhi8F8TP2a",
      "execution_count": 4,
      "outputs": [
        {
          "output_type": "stream",
          "name": "stdout",
          "text": [
            "I Play Hockey\n",
            "I Play Football\n",
            "I Love Hockey\n",
            "I Love Football\n",
            "You Play Hockey\n",
            "You Play Football\n",
            "You Love Hockey\n",
            "You Love Football\n"
          ]
        }
      ]
    },
    {
      "cell_type": "markdown",
      "id": "0ddf4f59",
      "metadata": {
        "id": "0ddf4f59"
      },
      "source": [
        "\n",
        "### 5. Please write a program to compress and decompress the string \"hello world!hello world!hello world!hello world!\""
      ]
    },
    {
      "cell_type": "code",
      "source": [
        "s = 'hello world!hello world!hello world!hello world!'\n",
        "# In Python 3 zlib.compress() accepts only DataType <bytes>\n",
        "y = bytes(s, 'utf-8')\n",
        "x = zlib.compress(y)\n",
        "print(x)\n",
        "print(zlib.decompress(x))"
      ],
      "metadata": {
        "colab": {
          "base_uri": "https://localhost:8080/"
        },
        "id": "W9QkHLHyTWZa",
        "outputId": "a86cc2c0-fabc-4d38-fe18-4f38fb75294d"
      },
      "id": "W9QkHLHyTWZa",
      "execution_count": 7,
      "outputs": [
        {
          "output_type": "stream",
          "name": "stdout",
          "text": [
            "b'x\\x9c\\xcbH\\xcd\\xc9\\xc9W(\\xcf/\\xcaIQ\\xcc \\x82\\r\\x00\\xbd[\\x11\\xf5'\n",
            "b'hello world!hello world!hello world!hello world!'\n"
          ]
        }
      ]
    },
    {
      "cell_type": "markdown",
      "id": "2aeb595b",
      "metadata": {
        "id": "2aeb595b"
      },
      "source": [
        "\n",
        "### 6. Please write a binary search function which searches an item in a sorted list. The function should return the index of element to be searched in the list."
      ]
    },
    {
      "cell_type": "code",
      "source": [
        "def binary_search(lst, item):\n",
        "    low = 0\n",
        "    high = len(lst) - 1\n",
        "    \n",
        "    while low <= high:\n",
        "        mid = round((low + high) / 2)\n",
        "        \n",
        "        if lst[mid] == item:\n",
        "            return mid\n",
        "        elif lst[mid] > item:\n",
        "            high = mid - 1\n",
        "        else:\n",
        "            low = mid + 1\n",
        "    return None\n",
        "    \n",
        "lst = [1,3,5,7,]\n",
        "print(binary_search(lst, 9))   "
      ],
      "metadata": {
        "colab": {
          "base_uri": "https://localhost:8080/"
        },
        "id": "3lHprhubTroA",
        "outputId": "96c580f7-9aa4-44e7-a96c-70e856cd1a6d"
      },
      "id": "3lHprhubTroA",
      "execution_count": 8,
      "outputs": [
        {
          "output_type": "stream",
          "name": "stdout",
          "text": [
            "None\n"
          ]
        }
      ]
    }
  ],
  "metadata": {
    "kernelspec": {
      "display_name": "Python 3 (ipykernel)",
      "language": "python",
      "name": "python3"
    },
    "language_info": {
      "codemirror_mode": {
        "name": "ipython",
        "version": 3
      },
      "file_extension": ".py",
      "mimetype": "text/x-python",
      "name": "python",
      "nbconvert_exporter": "python",
      "pygments_lexer": "ipython3",
      "version": "3.9.12"
    },
    "colab": {
      "provenance": []
    }
  },
  "nbformat": 4,
  "nbformat_minor": 5
}