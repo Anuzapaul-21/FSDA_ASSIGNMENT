{
  "cells": [
    {
      "cell_type": "markdown",
      "id": "3dcb940f",
      "metadata": {
        "id": "3dcb940f"
      },
      "source": [
        "## Python Basic Programming Assignment 10"
      ]
    },
    {
      "cell_type": "markdown",
      "id": "6720790a",
      "metadata": {
        "id": "6720790a"
      },
      "source": [
        "### 1. Write a Python program to find sum of elements in list?"
      ]
    },
    {
      "cell_type": "code",
      "source": [
        "# creating a list\n",
        "list1 = [11, 5, 17, 18, 23]\n",
        " \n",
        "# using sum() function\n",
        "total = sum(list1)\n",
        " \n",
        "# printing total value\n",
        "print(\"Sum of all elements in given list: \", total)"
      ],
      "metadata": {
        "colab": {
          "base_uri": "https://localhost:8080/"
        },
        "id": "umtwGXtSFeRj",
        "outputId": "8dd9f8a9-df2c-4a94-ab3a-05c349e80623"
      },
      "id": "umtwGXtSFeRj",
      "execution_count": 1,
      "outputs": [
        {
          "output_type": "stream",
          "name": "stdout",
          "text": [
            "Sum of all elements in given list:  74\n"
          ]
        }
      ]
    },
    {
      "cell_type": "markdown",
      "id": "fe1137c3",
      "metadata": {
        "id": "fe1137c3"
      },
      "source": [
        "### 2. Write a Python program to  Multiply all numbers in the list?"
      ]
    },
    {
      "cell_type": "code",
      "source": [
        "demoList = [3, 6 , 9, 12, 15, 18, 21]\n",
        "\n",
        "demoList = [x * 5 for x in demoList]\n",
        "\n",
        "print(demoList)"
      ],
      "metadata": {
        "colab": {
          "base_uri": "https://localhost:8080/"
        },
        "id": "qq81sYStFhew",
        "outputId": "869ef7ce-63cd-4ee7-a1fd-0919d002b192"
      },
      "id": "qq81sYStFhew",
      "execution_count": 3,
      "outputs": [
        {
          "output_type": "stream",
          "name": "stdout",
          "text": [
            "[15, 30, 45, 60, 75, 90, 105]\n"
          ]
        }
      ]
    },
    {
      "cell_type": "markdown",
      "id": "078681db",
      "metadata": {
        "id": "078681db"
      },
      "source": [
        "### 3. Write a Python program to find smallest number in a list?"
      ]
    },
    {
      "cell_type": "code",
      "source": [
        "demoList = [3, 6 , 9, 12, 15, 18, 21]\n",
        "ans = min(demoList)\n",
        "print(ans)"
      ],
      "metadata": {
        "colab": {
          "base_uri": "https://localhost:8080/"
        },
        "id": "itKChh5NFieJ",
        "outputId": "dbc146a4-8b60-4acb-9619-e5e4834ab2f6"
      },
      "id": "itKChh5NFieJ",
      "execution_count": 5,
      "outputs": [
        {
          "output_type": "stream",
          "name": "stdout",
          "text": [
            "3\n"
          ]
        }
      ]
    },
    {
      "cell_type": "markdown",
      "id": "12b04397",
      "metadata": {
        "id": "12b04397"
      },
      "source": [
        "### 4. Write a Python program to find largest number in a list?"
      ]
    },
    {
      "cell_type": "code",
      "source": [
        "demoList = [3, 6 , 9, 12, 15, 18, 21]\n",
        "ans = max(demoList)\n",
        "print(ans)"
      ],
      "metadata": {
        "colab": {
          "base_uri": "https://localhost:8080/"
        },
        "id": "86cj51hyFjHt",
        "outputId": "8f0278ab-c13a-4873-e189-805c07426d29"
      },
      "id": "86cj51hyFjHt",
      "execution_count": 6,
      "outputs": [
        {
          "output_type": "stream",
          "name": "stdout",
          "text": [
            "21\n"
          ]
        }
      ]
    },
    {
      "cell_type": "markdown",
      "id": "86442b51",
      "metadata": {
        "id": "86442b51"
      },
      "source": [
        "### 5. Write a Python program to find second largest number in a list?"
      ]
    },
    {
      "cell_type": "code",
      "source": [
        "# Python program to find second largest\n",
        "# number in a list\n",
        "\n",
        "# list of numbers - length of\n",
        "# list should be at least 2\n",
        "list1 = [10, 20, 4, 45, 99]\n",
        "\n",
        "mx = max(list1[0], list1[1])\n",
        "secondmax = min(list1[0], list1[1])\n",
        "n = len(list1)\n",
        "for i in range(2,n):\n",
        "\tif list1[i] > mx:\n",
        "\t\tsecondmax = mx\n",
        "\t\tmx = list1[i]\n",
        "\telif list1[i] > secondmax and \\\n",
        "\t\tmx != list1[i]:\n",
        "\t\tsecondmax = list1[i]\n",
        "\telif mx == secondmax and \\\n",
        "\t\tsecondmax != list1[i]:\n",
        "\t\tsecondmax = list1[i]\n",
        "\n",
        "print(\"Second highest number is : \",\\\n",
        "\tstr(secondmax))\n"
      ],
      "metadata": {
        "colab": {
          "base_uri": "https://localhost:8080/"
        },
        "id": "wgOlFwbwFj61",
        "outputId": "f2240182-a7a4-4a62-ff44-51383478df02"
      },
      "id": "wgOlFwbwFj61",
      "execution_count": 7,
      "outputs": [
        {
          "output_type": "stream",
          "name": "stdout",
          "text": [
            "Second highest number is :  45\n"
          ]
        }
      ]
    },
    {
      "cell_type": "markdown",
      "id": "10964d7d",
      "metadata": {
        "id": "10964d7d"
      },
      "source": [
        "### 6. Write a Python program to find N largest elements from a list?"
      ]
    },
    {
      "cell_type": "code",
      "source": [
        "# Python program to find N largest\n",
        "# element from given list of integers\n",
        "\n",
        "# Function returns N largest elements\n",
        "def Nmaxelements(list1, N):\n",
        "\tfinal_list = []\n",
        "\n",
        "\tfor i in range(0, N):\n",
        "\t\tmax1 = 0\n",
        "\t\t\n",
        "\t\tfor j in range(len(list1)):\t\n",
        "\t\t\tif list1[j] > max1:\n",
        "\t\t\t\tmax1 = list1[j];\n",
        "\t\t\t\t\n",
        "\t\tlist1.remove(max1);\n",
        "\t\tfinal_list.append(max1)\n",
        "\t\t\n",
        "\tprint(final_list)\n",
        "\n",
        "# Driver code\n",
        "list1 = [2, 6, 41, 85, 0, 3, 7, 6, 10]\n",
        "N = 2\n",
        "\n",
        "# Calling the function\n",
        "Nmaxelements(list1, N)\n"
      ],
      "metadata": {
        "colab": {
          "base_uri": "https://localhost:8080/"
        },
        "id": "DiYGFVFPFkp1",
        "outputId": "11e67e76-0d43-4c69-dd19-470fe2f05876"
      },
      "id": "DiYGFVFPFkp1",
      "execution_count": 8,
      "outputs": [
        {
          "output_type": "stream",
          "name": "stdout",
          "text": [
            "[85, 41]\n"
          ]
        }
      ]
    },
    {
      "cell_type": "markdown",
      "id": "2f1a1e98",
      "metadata": {
        "id": "2f1a1e98"
      },
      "source": [
        "### 7. Write a Python program to print even numbers in a list?"
      ]
    },
    {
      "cell_type": "code",
      "source": [
        "# list of numbers\n",
        "list1 = [10, 21, 4, 45, 66, 93]\n",
        " \n",
        "# iterating each number in list\n",
        "for num in list1:\n",
        " \n",
        "    # checking condition\n",
        "    if num % 2 == 0:\n",
        "        print(num, end=\" \")"
      ],
      "metadata": {
        "colab": {
          "base_uri": "https://localhost:8080/"
        },
        "id": "4RBLhFuuHgSJ",
        "outputId": "9a0abd97-1364-4472-9447-6d6517c59214"
      },
      "id": "4RBLhFuuHgSJ",
      "execution_count": 17,
      "outputs": [
        {
          "output_type": "stream",
          "name": "stdout",
          "text": [
            "10 4 66 "
          ]
        }
      ]
    },
    {
      "cell_type": "markdown",
      "id": "989bb324",
      "metadata": {
        "id": "989bb324"
      },
      "source": [
        "### 8. Write a Python program to print odd numbers in a List?"
      ]
    },
    {
      "cell_type": "code",
      "source": [
        "# Python program to print odd Numbers in a List\n",
        "\n",
        "# list of numbers\n",
        "list1 = [10, 21, 4, 45, 66, 93]\n",
        "\n",
        "# iterating each number in list\n",
        "for num in list1:\n",
        "  if num % 2 != 0:\n",
        "    print(num, end=\" \")"
      ],
      "metadata": {
        "colab": {
          "base_uri": "https://localhost:8080/"
        },
        "id": "1J6i5RCGHhDQ",
        "outputId": "bf38ab50-8248-4431-9ebf-0c25c6472fc8"
      },
      "id": "1J6i5RCGHhDQ",
      "execution_count": 21,
      "outputs": [
        {
          "output_type": "stream",
          "name": "stdout",
          "text": [
            "21 45 93 "
          ]
        }
      ]
    },
    {
      "cell_type": "markdown",
      "id": "185b7b13",
      "metadata": {
        "id": "185b7b13"
      },
      "source": [
        "### 9. Write a Python program to Remove empty List from List?"
      ]
    },
    {
      "cell_type": "code",
      "source": [
        "# Python3 code to Demonstrate Remove empty List\n",
        "# from List using list comprehension\n",
        "\n",
        "# Initializing list\n",
        "test_list = [5, 6, [], 3, [], [], 9]\n",
        "\n",
        "# printing original list\n",
        "print(\"The original list is : \" + str(test_list))\n",
        "\n",
        "# Remove empty List from List\n",
        "# using list comprehension\n",
        "res = [ele for ele in test_list if ele != []]\n",
        "\n",
        "# printing result\n",
        "print(\"List after empty list removal : \" + str(res))\n"
      ],
      "metadata": {
        "colab": {
          "base_uri": "https://localhost:8080/"
        },
        "id": "APhkalbYHiAm",
        "outputId": "97fa83b1-2db5-4737-9ee9-12bdc7e8fe26"
      },
      "id": "APhkalbYHiAm",
      "execution_count": 22,
      "outputs": [
        {
          "output_type": "stream",
          "name": "stdout",
          "text": [
            "The original list is : [5, 6, [], 3, [], [], 9]\n",
            "List after empty list removal : [5, 6, 3, 9]\n"
          ]
        }
      ]
    },
    {
      "cell_type": "markdown",
      "id": "278cfacc",
      "metadata": {
        "id": "278cfacc"
      },
      "source": [
        "### 10. Write a Python program to Cloning or Copying a list?"
      ]
    },
    {
      "cell_type": "code",
      "source": [
        "demoList1= [23,56,7,8,94]\n",
        "ans=demoList1.copy()\n",
        "ans"
      ],
      "metadata": {
        "colab": {
          "base_uri": "https://localhost:8080/"
        },
        "id": "JhmL9tL7Hi3S",
        "outputId": "0b7701c4-dad9-4947-c4c6-4601da27b981"
      },
      "id": "JhmL9tL7Hi3S",
      "execution_count": 11,
      "outputs": [
        {
          "output_type": "execute_result",
          "data": {
            "text/plain": [
              "[23, 56, 7, 8, 94]"
            ]
          },
          "metadata": {},
          "execution_count": 11
        }
      ]
    },
    {
      "cell_type": "markdown",
      "id": "b359bedf",
      "metadata": {
        "id": "b359bedf"
      },
      "source": [
        "### 11. Write a Python program to Count occurrences of an element in a list?"
      ]
    },
    {
      "cell_type": "code",
      "source": [
        "# Python code to count the number of occurrences\n",
        "def countX(lst, x):\n",
        "\treturn lst.count(x)\n",
        "\n",
        "\n",
        "# Driver Code\n",
        "lst = [8, 6, 8, 10, 8, 20, 10, 8, 8]\n",
        "x = 8\n",
        "print('{} has occurred {} times'.format(x,\n",
        "\t\t\t\t\t\t\t\t\t\tcountX(lst, x)))\n"
      ],
      "metadata": {
        "colab": {
          "base_uri": "https://localhost:8080/"
        },
        "id": "qGMjEA49Hj46",
        "outputId": "8df0796e-ab6f-487b-98ee-a669f29713fd"
      },
      "id": "qGMjEA49Hj46",
      "execution_count": 23,
      "outputs": [
        {
          "output_type": "stream",
          "name": "stdout",
          "text": [
            "8 has occurred 5 times\n"
          ]
        }
      ]
    },
    {
      "cell_type": "code",
      "source": [],
      "metadata": {
        "id": "xxsHFRUZH3sU"
      },
      "id": "xxsHFRUZH3sU",
      "execution_count": null,
      "outputs": []
    }
  ],
  "metadata": {
    "kernelspec": {
      "display_name": "Python 3 (ipykernel)",
      "language": "python",
      "name": "python3"
    },
    "language_info": {
      "codemirror_mode": {
        "name": "ipython",
        "version": 3
      },
      "file_extension": ".py",
      "mimetype": "text/x-python",
      "name": "python",
      "nbconvert_exporter": "python",
      "pygments_lexer": "ipython3",
      "version": "3.9.12"
    },
    "colab": {
      "provenance": []
    }
  },
  "nbformat": 4,
  "nbformat_minor": 5
}